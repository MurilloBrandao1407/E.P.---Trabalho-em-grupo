{
  "cells": [
    {
      "cell_type": "markdown",
      "metadata": {
        "id": "view-in-github",
        "colab_type": "text"
      },
      "source": [
        "<a href=\"https://colab.research.google.com/github/MurilloBrandao1407/E.P.---Trabalho-em-grupo/blob/main/Conhe%C3%A7a_o_Colab.ipynb\" target=\"_parent\"><img src=\"https://colab.research.google.com/assets/colab-badge.svg\" alt=\"Open In Colab\"/></a>"
      ]
    },
    {
      "cell_type": "code",
      "source": [
        "import pandas as pd\n",
        "\n",
        "# Carregar o dataset (ajuste o caminho se necessário)\n",
        "df = pd.read_csv(\"/content/d1dos_meteorologicos_tratado.csv\", parse_dates=[\"Data Medicao\"])\n",
        "\n",
        "# Renomear colunas para facilitar\n",
        "df.columns = [\n",
        "    \"Data\", \"Insolacao\", \"Precipitacao\", \"Temp_Max\", \"Temp_Min\",\n",
        "    \"Umidade\", \"Vento\"\n",
        "]\n",
        "\n",
        "# Exemplo de criação de coluna de classificação binária:\n",
        "# Vamos prever dias com muita chuva (Precipitação > 10mm)\n",
        "df[\"Chuva_Forte\"] = (df[\"Precipitacao\"] > 10).astype(int)\n",
        "\n",
        "# Checar se há valores ausentes\n",
        "print(df.isnull().sum())\n",
        "from sklearn.model_selection import train_test_split\n",
        "from sklearn.preprocessing import StandardScaler\n",
        "\n",
        "# Features (sem a data nem as targets)\n",
        "X = df[[\"Insolacao\", \"Temp_Max\", \"Temp_Min\", \"Umidade\", \"Vento\"]]\n",
        "\n",
        "# Targets\n",
        "y_reg = df[\"Precipitacao\"]            # target para regressão\n",
        "y_class = df[\"Chuva_Forte\"]           # target para classificação\n",
        "\n",
        "# Escalar as features (necessário para KNN e MLP)\n",
        "scaler = StandardScaler()\n",
        "X_scaled = scaler.fit_transform(X)\n",
        "\n",
        "# Dividir dados para regressão\n",
        "X_train_reg, X_test_reg, y_train_reg, y_test_reg = train_test_split(\n",
        "    X_scaled, y_reg, test_size=0.2, random_state=42\n",
        ")\n",
        "\n",
        "# Dividir dados para classificação\n",
        "X_train_clf, X_test_clf, y_train_clf, y_test_clf = train_test_split(\n",
        "    X_scaled, y_class, test_size=0.2, random_state=42\n",
        ")\n",
        "from sklearn.neighbors import KNeighborsRegressor\n",
        "from sklearn.metrics import mean_squared_error, r2_score, explained_variance_score\n",
        "\n",
        "knn = KNeighborsRegressor(n_neighbors=5)\n",
        "knn.fit(X_train_reg, y_train_reg)\n",
        "y_pred_knn = knn.predict(X_test_reg)\n",
        "\n",
        "print(\"KNN Regressor:\")\n",
        "import numpy as np\n",
        "rmse = np.sqrt(mean_squared_error(y_test_reg, y_pred_knn))\n",
        "print(\"RMSE:\", rmse)\n",
        "print(\"R²:\", r2_score(y_test_reg, y_pred_knn))\n",
        "print(\"Explained Variance:\", explained_variance_score(y_test_reg, y_pred_knn))\n"
      ],
      "metadata": {
        "colab": {
          "base_uri": "https://localhost:8080/"
        },
        "id": "OCV6WBkQwB64",
        "outputId": "f9e22623-7a52-4c59-d34e-8f270d5005e4"
      },
      "execution_count": 4,
      "outputs": [
        {
          "output_type": "stream",
          "name": "stdout",
          "text": [
            "Data            0\n",
            "Insolacao       0\n",
            "Precipitacao    0\n",
            "Temp_Max        0\n",
            "Temp_Min        0\n",
            "Umidade         0\n",
            "Vento           0\n",
            "Chuva_Forte     0\n",
            "dtype: int64\n",
            "KNN Regressor:\n",
            "RMSE: 14.17455090331615\n",
            "R²: 0.008965275262752481\n",
            "Explained Variance: 0.008992629567121324\n"
          ]
        }
      ]
    },
    {
      "cell_type": "code",
      "source": [
        "import pandas as pd\n",
        "\n",
        "# Carregar o dataset (ajuste o caminho se necessário)\n",
        "df = pd.read_csv(\"/content/d1dos_meteorologicos_tratado.csv\", parse_dates=[\"Data Medicao\"])\n",
        "\n",
        "# Renomear colunas para facilitar\n",
        "df.columns = [\n",
        "    \"Data\", \"Insolacao\", \"Precipitacao\", \"Temp_Max\", \"Temp_Min\",\n",
        "    \"Umidade\", \"Vento\"\n",
        "]\n",
        "\n",
        "# Exemplo de criação de coluna de classificação binária:\n",
        "# Vamos prever dias com muita chuva (Precipitação > 10mm)\n",
        "df[\"Chuva_Forte\"] = (df[\"Precipitacao\"] > 10).astype(int)\n",
        "\n",
        "# Checar se há valores ausentes\n",
        "print(df.isnull().sum())\n",
        "from sklearn.model_selection import train_test_split\n",
        "from sklearn.preprocessing import StandardScaler\n",
        "\n",
        "# Features (sem a data nem as targets)\n",
        "X = df[[\"Insolacao\", \"Temp_Max\", \"Temp_Min\", \"Umidade\", \"Vento\"]]\n",
        "\n",
        "# Targets\n",
        "y_reg = df[\"Precipitacao\"]            # target para regressão\n",
        "y_class = df[\"Chuva_Forte\"]           # target para classificação\n",
        "\n",
        "# Escalar as features (necessário para KNN e MLP)\n",
        "scaler = StandardScaler()\n",
        "X_scaled = scaler.fit_transform(X)\n",
        "\n",
        "# Dividir dados para regressão\n",
        "X_train_reg, X_test_reg, y_train_reg, y_test_reg = train_test_split(\n",
        "    X_scaled, y_reg, test_size=0.2, random_state=42\n",
        ")\n",
        "\n",
        "# Dividir dados para classificação\n",
        "X_train_clf, X_test_clf, y_train_clf, y_test_clf = train_test_split(\n",
        "    X_scaled, y_class, test_size=0.2, random_state=42\n",
        ")\n",
        "from sklearn.linear_model import Lasso\n",
        "\n",
        "lasso = Lasso(alpha=0.1)\n",
        "lasso.fit(X_train_reg, y_train_reg)\n",
        "y_pred_lasso = lasso.predict(X_test_reg)\n",
        "\n",
        "print(\"\\nLasso Regression:\")\n",
        "import numpy as np\n",
        "rmse = np.sqrt(mean_squared_error(y_test_reg, y_pred_knn))\n",
        "print(\"RMSE:\", rmse)\n",
        "print(\"R²:\", r2_score(y_test_reg, y_pred_lasso))\n",
        "print(\"Explained Variance:\", explained_variance_score(y_test_reg, y_pred_lasso))"
      ],
      "metadata": {
        "colab": {
          "base_uri": "https://localhost:8080/"
        },
        "id": "WFYiToHe2yXb",
        "outputId": "27cb09e3-762a-4aba-86ae-a879396a37ff"
      },
      "execution_count": 5,
      "outputs": [
        {
          "output_type": "stream",
          "name": "stdout",
          "text": [
            "Data            0\n",
            "Insolacao       0\n",
            "Precipitacao    0\n",
            "Temp_Max        0\n",
            "Temp_Min        0\n",
            "Umidade         0\n",
            "Vento           0\n",
            "Chuva_Forte     0\n",
            "dtype: int64\n",
            "\n",
            "Lasso Regression:\n",
            "RMSE: 14.17455090331615\n",
            "R²: 0.13542612712581759\n",
            "Explained Variance: 0.13555624920695963\n"
          ]
        }
      ]
    },
    {
      "cell_type": "code",
      "source": [
        "import pandas as pd\n",
        "\n",
        "# Carregar o dataset (ajuste o caminho se necessário)\n",
        "df = pd.read_csv(\"/content/d1dos_meteorologicos_tratado.csv\", parse_dates=[\"Data Medicao\"])\n",
        "\n",
        "# Renomear colunas para facilitar\n",
        "df.columns = [\n",
        "    \"Data\", \"Insolacao\", \"Precipitacao\", \"Temp_Max\", \"Temp_Min\",\n",
        "    \"Umidade\", \"Vento\"\n",
        "]\n",
        "\n",
        "# Exemplo de criação de coluna de classificação binária:\n",
        "# Vamos prever dias com muita chuva (Precipitação > 10mm)\n",
        "df[\"Chuva_Forte\"] = (df[\"Precipitacao\"] > 10).astype(int)\n",
        "\n",
        "# Checar se há valores ausentes\n",
        "print(df.isnull().sum())\n",
        "from sklearn.model_selection import train_test_split\n",
        "from sklearn.preprocessing import StandardScaler\n",
        "\n",
        "# Features (sem a data nem as targets)\n",
        "X = df[[\"Insolacao\", \"Temp_Max\", \"Temp_Min\", \"Umidade\", \"Vento\"]]\n",
        "\n",
        "# Targets\n",
        "y_reg = df[\"Precipitacao\"]            # target para regressão\n",
        "y_class = df[\"Chuva_Forte\"]           # target para classificação\n",
        "\n",
        "# Escalar as features (necessário para KNN e MLP)\n",
        "scaler = StandardScaler()\n",
        "X_scaled = scaler.fit_transform(X)\n",
        "\n",
        "# Dividir dados para regressão\n",
        "X_train_reg, X_test_reg, y_train_reg, y_test_reg = train_test_split(\n",
        "    X_scaled, y_reg, test_size=0.2, random_state=42\n",
        ")\n",
        "\n",
        "# Dividir dados para classificação\n",
        "X_train_clf, X_test_clf, y_train_clf, y_test_clf = train_test_split(\n",
        "    X_scaled, y_class, test_size=0.2, random_state=42\n",
        ")\n",
        "from sklearn.neural_network import MLPClassifier\n",
        "from sklearn.metrics import f1_score, roc_auc_score, accuracy_score  # <-- adicionada aqui\n",
        "\n",
        "mlp = MLPClassifier(hidden_layer_sizes=(100,), max_iter=300, random_state=42)\n",
        "mlp.fit(X_train_clf, y_train_clf)\n",
        "y_pred_mlp = mlp.predict(X_test_clf)\n",
        "y_prob_mlp = mlp.predict_proba(X_test_clf)[:, 1]\n",
        "\n",
        "print(\"\\nMLP Classifier:\")\n",
        "print(\"F1-Score:\", f1_score(y_test_clf, y_pred_mlp))\n",
        "print(\"AUC-ROC:\", roc_auc_score(y_test_clf, y_prob_mlp))\n",
        "print(\"Accuracy:\", accuracy_score(y_test_clf, y_pred_mlp))  # <-- nova métrica\n"
      ],
      "metadata": {
        "colab": {
          "base_uri": "https://localhost:8080/"
        },
        "id": "ortG1E8y6e8r",
        "outputId": "26228dcc-673f-49a4-d022-50bbc31a3554"
      },
      "execution_count": 2,
      "outputs": [
        {
          "output_type": "stream",
          "name": "stdout",
          "text": [
            "Data            0\n",
            "Insolacao       0\n",
            "Precipitacao    0\n",
            "Temp_Max        0\n",
            "Temp_Min        0\n",
            "Umidade         0\n",
            "Vento           0\n",
            "Chuva_Forte     0\n",
            "dtype: int64\n",
            "\n",
            "MLP Classifier:\n",
            "F1-Score: 0.20109689213893966\n",
            "AUC-ROC: 0.7965811965811967\n",
            "Accuracy: 0.8006386861313869\n"
          ]
        }
      ]
    }
  ],
  "metadata": {
    "colab": {
      "name": "Conheça o Colab",
      "provenance": [],
      "include_colab_link": true
    },
    "kernelspec": {
      "display_name": "Python 3",
      "name": "python3"
    }
  },
  "nbformat": 4,
  "nbformat_minor": 0
}